{
 "cells": [
  {
   "cell_type": "markdown",
   "id": "e78e8950",
   "metadata": {},
   "source": [
    "# Cognitive Skills & Student Performance Dashboard\n",
    "\n",
    "This notebook generates a synthetic dataset of students, analyzes correlations between cognitive skills and performance, \n",
    "builds a simple ML model, clusters students into personas, and saves outputs for a Next.js dashboard.\n"
   ]
  },
  {
   "cell_type": "code",
   "execution_count": null,
   "id": "31e915bc",
   "metadata": {},
   "outputs": [],
   "source": [
    "import numpy as np\n",
    "import pandas as pd\n",
    "import matplotlib.pyplot as plt\n",
    "import seaborn as sns\n",
    "from sklearn.model_selection import train_test_split\n",
    "from sklearn.ensemble import RandomForestRegressor\n",
    "from sklearn.metrics import mean_squared_error, r2_score\n",
    "from sklearn.cluster import KMeans\n",
    "from sklearn.preprocessing import StandardScaler\n",
    "import os\n",
    "\n",
    "np.random.seed(42)\n",
    "os.makedirs('outputs', exist_ok=True)\n"
   ]
  },
  {
   "cell_type": "code",
   "execution_count": null,
   "id": "db85c4a5",
   "metadata": {},
   "outputs": [],
   "source": [
    "N = 300\n",
    "first = [\"Aarav\",\"Arjun\",\"Neha\",\"Priya\",\"Rohan\",\"Siddharth\",\"Kavya\",\"Ananya\",\"Vikram\",\"Isha\"]\n",
    "last = [\"Shah\",\"Patel\",\"Reddy\",\"Kumar\",\"Singh\",\"Bose\",\"Mehta\",\"Gupta\",\"Nair\",\"Das\"]\n",
    "names = [f\"{np.random.choice(first)} {np.random.choice(last)}\" for _ in range(N)]\n",
    "student_id = [f\"S{1000+i}\" for i in range(N)]\n",
    "classes = np.random.choice([\"6A\",\"6B\",\"7A\",\"7B\",\"8A\"], size=N)\n",
    "comprehension = np.clip(np.random.normal(70, 12, N), 30, 100)\n",
    "attention = np.clip(np.random.normal(65, 15, N), 20, 100)\n",
    "focus = np.clip(np.random.normal(68, 14, N), 25, 100)\n",
    "retention = np.clip(np.random.normal(66, 13, N), 20, 100)\n",
    "engagement_time = np.clip(np.random.exponential(scale=45, size=N), 5, 240)\n",
    "assessment_score = (\n",
    "    0.28*comprehension + 0.25*attention + 0.22*focus + 0.15*retention + 0.1*(engagement_time/2)\n",
    ") + np.random.normal(0, 6, N)\n",
    "assessment_score = np.clip(assessment_score, 0, 100)\n",
    "\n",
    "df = pd.DataFrame({\n",
    "    'student_id': student_id,\n",
    "    'name': names,\n",
    "    'class': classes,\n",
    "    'comprehension': np.round(comprehension,1),\n",
    "    'attention': np.round(attention,1),\n",
    "    'focus': np.round(focus,1),\n",
    "    'retention': np.round(retention,1),\n",
    "    'engagement_time': np.round(engagement_time,1),\n",
    "    'assessment_score': np.round(assessment_score,1)\n",
    "})\n",
    "df.head()\n"
   ]
  },
  {
   "cell_type": "code",
   "execution_count": null,
   "id": "9be48b9d",
   "metadata": {},
   "outputs": [],
   "source": [
    "features = ['comprehension','attention','focus','retention','engagement_time']\n",
    "scaler = StandardScaler()\n",
    "X_scaled = scaler.fit_transform(df[features])\n",
    "kmeans = KMeans(n_clusters=3, random_state=42)\n",
    "df['cluster'] = kmeans.fit_predict(X_scaled)\n",
    "df.to_csv('outputs/synthetic_students_with_clusters.csv', index=False)\n",
    "df.head()\n"
   ]
  },
  {
   "cell_type": "code",
   "execution_count": null,
   "id": "9a913a4a",
   "metadata": {},
   "outputs": [],
   "source": [
    "corr = df[['comprehension','attention','focus','retention','engagement_time','assessment_score']].corr()\n",
    "sns.heatmap(corr, annot=True, fmt='.2f')\n",
    "plt.title('Correlation matrix')\n",
    "plt.show()\n"
   ]
  },
  {
   "cell_type": "code",
   "execution_count": null,
   "id": "3f21cecb",
   "metadata": {},
   "outputs": [],
   "source": [
    "plt.scatter(df['attention'], df['assessment_score'], alpha=0.6)\n",
    "plt.xlabel('Attention')\n",
    "plt.ylabel('Assessment Score')\n",
    "plt.title('Attention vs Score')\n",
    "plt.show()\n"
   ]
  },
  {
   "cell_type": "code",
   "execution_count": null,
   "id": "e6ffc7ac",
   "metadata": {},
   "outputs": [],
   "source": [
    "X = df[features]\n",
    "y = df['assessment_score']\n",
    "X_train, X_test, y_train, y_test = train_test_split(X, y, test_size=0.2, random_state=42)\n",
    "model = RandomForestRegressor(n_estimators=200, random_state=42)\n",
    "model.fit(X_train, y_train)\n",
    "y_pred = model.predict(X_test)\n",
    "rmse = mean_squared_error(y_test, y_pred, squared=False)\n",
    "r2 = r2_score(y_test, y_pred)\n",
    "rmse, r2\n"
   ]
  },
  {
   "cell_type": "code",
   "execution_count": null,
   "id": "976f18e9",
   "metadata": {},
   "outputs": [],
   "source": [
    "importances = pd.Series(model.feature_importances_, index=features).sort_values(ascending=False)\n",
    "importances.plot(kind='bar', title='Feature importances')\n",
    "plt.show()\n"
   ]
  },
  {
   "cell_type": "code",
   "execution_count": null,
   "id": "1bcffee8",
   "metadata": {},
   "outputs": [],
   "source": [
    "df.groupby('cluster')[features + ['assessment_score']].mean()\n"
   ]
  }
 ],
 "metadata": {},
 "nbformat": 4,
 "nbformat_minor": 5
}
